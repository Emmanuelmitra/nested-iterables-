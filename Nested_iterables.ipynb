{
  "nbformat": 4,
  "nbformat_minor": 0,
  "metadata": {
    "colab": {
      "name": "Nested iterables ",
      "provenance": [],
      "authorship_tag": "ABX9TyPIlDn9AtfjAprJ7BJt96zd",
      "include_colab_link": true
    },
    "kernelspec": {
      "name": "python3",
      "display_name": "Python 3"
    },
    "language_info": {
      "name": "python"
    }
  },
  "cells": [
    {
      "cell_type": "markdown",
      "metadata": {
        "id": "view-in-github",
        "colab_type": "text"
      },
      "source": [
        "<a href=\"https://colab.research.google.com/github/Emmanuelmitra/nested-iterables-/blob/main/Nested_iterables.ipynb\" target=\"_parent\"><img src=\"https://colab.research.google.com/assets/colab-badge.svg\" alt=\"Open In Colab\"/></a>"
      ]
    },
    {
      "cell_type": "markdown",
      "source": [
        "# nested iterables"
      ],
      "metadata": {
        "id": "0wzCTkCF5LAr"
      }
    },
    {
      "cell_type": "code",
      "source": [
        "# Print 5 by accessing the nested data.\n",
        "nested_lst=[[1,2,3], [4,5,6], [7,8,9]]\n",
        "ans_1=nested_lst[1][1]\n",
        "print(ans_1)\n"
      ],
      "metadata": {
        "colab": {
          "base_uri": "https://localhost:8080/"
        },
        "id": "MH4BI0nO5MGw",
        "outputId": "c20befe0-92b0-465a-ade7-2bc47ae563df"
      },
      "execution_count": 1,
      "outputs": [
        {
          "output_type": "stream",
          "name": "stdout",
          "text": [
            "5\n"
          ]
        }
      ]
    },
    {
      "cell_type": "code",
      "source": [
        "# Print \"Z\" from the nested data.\n",
        "nested_lst = [[\"Hat\", \"Glove\", \"Goggle\"], [\"Button\", \"Zipper\", \"Hook\"]]\n",
        "ans_1=nested_lst[1][1][0]\n",
        "\n",
        "print(ans_1)"
      ],
      "metadata": {
        "colab": {
          "base_uri": "https://localhost:8080/"
        },
        "id": "I47hhNtl5Wjy",
        "outputId": "7f5bbcda-6a50-43bd-a823-6d427aee9e08"
      },
      "execution_count": 2,
      "outputs": [
        {
          "output_type": "stream",
          "name": "stdout",
          "text": [
            "Z\n"
          ]
        }
      ]
    },
    {
      "cell_type": "code",
      "source": [
        "# What color is the violet?\n",
        "nested_lst = [{\"orange\": \"orange\"}, {\"rose\": \"red\"}, {\"violet\": \"blue\"}]\n",
        "\n",
        "\n",
        "ans_1=nested_lst[2]['violet']\n",
        "\n",
        "\n",
        "print(ans_1)"
      ],
      "metadata": {
        "colab": {
          "base_uri": "https://localhost:8080/"
        },
        "id": "7JkPbTUG5gji",
        "outputId": "77967a7d-e13e-474b-cfb5-b51861e07d05"
      },
      "execution_count": 3,
      "outputs": [
        {
          "output_type": "stream",
          "name": "stdout",
          "text": [
            "blue\n"
          ]
        }
      ]
    },
    {
      "cell_type": "code",
      "source": [
        "# Print the values of the \"roads\" key from the nested dictionary.\n",
        "nested_dict = {\"Dakar\":{\"weather\":\"sunny\", \"roads\":\"dry\"}}\n",
        "\n",
        "\n",
        "ans_1=nested_dict['Dakar']['roads']\n",
        "\n",
        "\n",
        "print(ans_1)\n"
      ],
      "metadata": {
        "colab": {
          "base_uri": "https://localhost:8080/"
        },
        "id": "OhHk3oVr5l1F",
        "outputId": "5b5ec343-6770-47b2-e7f3-970f3b69a0bd"
      },
      "execution_count": 4,
      "outputs": [
        {
          "output_type": "stream",
          "name": "stdout",
          "text": [
            "dry\n"
          ]
        }
      ]
    },
    {
      "cell_type": "code",
      "source": [
        "# Print the first element of the weather for Tokyo.\n",
        "nested_dict = {\"Tokyo\": {\"weather\":[\"sunny\", \"cloudy\"], \"roads\":\"dry\"}, \"Dakar\": {\"weather\":[\"foggy\",\"windy\"], \"roads\": \"sandy\"}}\n",
        "\n",
        "\n",
        "ans_1=nested_dict['Tokyo']['weather'][0]\n",
        "\n",
        "\n",
        "print(ans_1)\n"
      ],
      "metadata": {
        "colab": {
          "base_uri": "https://localhost:8080/"
        },
        "id": "yIgfV3ZQ5qYN",
        "outputId": "4c2e144c-fa08-4e05-c384-f8b1d64daabb"
      },
      "execution_count": 5,
      "outputs": [
        {
          "output_type": "stream",
          "name": "stdout",
          "text": [
            "sunny\n"
          ]
        }
      ]
    },
    {
      "cell_type": "markdown",
      "source": [
        "End"
      ],
      "metadata": {
        "id": "hmjED58v55L2"
      }
    },
    {
      "cell_type": "code",
      "source": [
        ""
      ],
      "metadata": {
        "id": "mJeh_R9O5571"
      },
      "execution_count": null,
      "outputs": []
    }
  ]
}